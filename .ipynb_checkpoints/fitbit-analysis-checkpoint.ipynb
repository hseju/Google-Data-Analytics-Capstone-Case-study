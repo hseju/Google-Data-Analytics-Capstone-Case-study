{
 "cells": [
  {
   "cell_type": "markdown",
   "id": "de78c4c3-1c8a-4ed1-9558-bff22b743cd0",
   "metadata": {
    "tags": []
   },
   "source": [
    "# Data Analysis on Smart Device Usage"
   ]
  },
  {
   "cell_type": "markdown",
   "id": "16f68452-c4e9-4f8d-a74b-1e6b311a7092",
   "metadata": {},
   "source": [
    "### Background"
   ]
  },
  {
   "cell_type": "markdown",
   "id": "a04fe0e9-b894-468d-a60d-186d690719cf",
   "metadata": {},
   "source": [
    "Belabeat is a emerging tech manufacturer who wants to know the smart device usage habits from its customers. They plan to strategies the marketing based on the insights and want to know if it can help make better products. \n",
    "\n",
    "For this purpose they would like to use fitbit physical activity data from 30 users who consented to use it for research. Based on the insights gathered from this data, we will help make plans or recommended steps to make better products at Belabeat. \n",
    "\n",
    "The dataset consits of physical acitvity, sleep, steps, calories, active hours, hourly and minutes data along with heart rate. \n",
    "\n",
    "\n"
   ]
  },
  {
   "cell_type": "code",
   "execution_count": null,
   "id": "bdc001a8-357f-4e88-bf93-9c1af2f392b0",
   "metadata": {},
   "outputs": [],
   "source": [
    "The"
   ]
  }
 ],
 "metadata": {
  "kernelspec": {
   "display_name": "Python 3 (ipykernel)",
   "language": "python",
   "name": "python3"
  },
  "language_info": {
   "codemirror_mode": {
    "name": "ipython",
    "version": 3
   },
   "file_extension": ".py",
   "mimetype": "text/x-python",
   "name": "python",
   "nbconvert_exporter": "python",
   "pygments_lexer": "ipython3",
   "version": "3.9.7"
  }
 },
 "nbformat": 4,
 "nbformat_minor": 5
}
